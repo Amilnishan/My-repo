
{
 "cells": [
  {
   "cell_type": "code",
   "execution_count": 1,
   "id": "c3f2f834",
   "metadata": {},
   "outputs": [
    {
     "name": "stdout",
     "output_type": "stream",
     "text": [
      "enter the celsius:25\n",
      "77.0 fahrenheit equal to celsius 25.0\n"
     ]
    }
   ],
   "source": [
    "#program to convert celsius to fahrenheit\n",
    "\n",
    "celsius=float(input(\"enter the celsius:\"))\n",
    "fahrenheit=celsius*9/5+32\n",
    "print(fahrenheit,\"fahrenheit equal to celsius\",celsius)"
   ]
  },
  {
   "cell_type": "code",
   "execution_count": 3,
   "id": "d1c6028b",
   "metadata": {},
   "outputs": [
    {
     "name": "stdout",
     "output_type": "stream",
     "text": [
      "enter the kilometer:2\n",
      "1.242742 mile is equal to kilometer 2.0\n"
     ]
    }
   ],
   "source": [
    "#program to convert kilometer to miles\n",
    "\n",
    "km=float(input(\"enter the kilometer:\"))\n",
    "mile=km*0.621371\n",
    "print(mile,\"mile is equal to kilometer\",km)"
   ]
  },
  {
   "cell_type": "code",
   "execution_count": 6,
   "id": "2c6c4b86",
   "metadata": {},
   "outputs": [
    {
     "name": "stdout",
     "output_type": "stream",
     "text": [
      "enter the price of product A:120\n",
      "enter the price of product B:80\n",
      "enter the price of product C:30\n",
      "Total price= 230.0\n",
      "Final price=195.50\n",
      "Average price=76.67\n",
      "product A is more expensive than final price: False\n",
      "product B is more expensive than final price: False\n",
      "product C is more expensive than final price: False\n",
      "Final price is in the range of $50 to $200: True\n"
     ]
    }
   ],
   "source": [
    "#program to input 3 product price,calculate total price,final price,average price,find range and expensive product\n",
    "\n",
    "A=float(input(\"enter the price of product A:\"))\n",
    "B=float(input(\"enter the price of product B:\"))\n",
    "C=float(input(\"enter the price of product C:\"))\n",
    "TP=A+B+C\n",
    "print(\"Total price=\",TP)\n",
    "discount=TP*0.15\n",
    "FP=TP-discount\n",
    "print(f\"Final price={FP:.2f}\")\n",
    "average=TP/3\n",
    "print(f\"Average price={average:.2f}\")\n",
    "\n",
    "print(\"product A is more expensive than final price:\", A > FP)\n",
    "print(\"product B is more expensive than final price:\", B > FP)\n",
    "print(\"product C is more expensive than final price:\", C > FP)\n",
    "\n",
    "print(\"Final price is in the range of $50 to $200:\", FP >= 50 and FP <= 200)"
   ]
  },
  {
   "cell_type": "code",
   "execution_count": null,
   "id": "72880cd1",
   "metadata": {},
   "outputs": [],
   "source": []
  }
 ],
 "metadata": {
  "kernelspec": {
   "display_name": "Python 3 (ipykernel)",
   "language": "python",
   "name": "python3"
  },
  "language_info": {
   "codemirror_mode": {
    "name": "ipython",
    "version": 3
   },
   "file_extension": ".py",
   "mimetype": "text/x-python",
   "name": "python",
   "nbconvert_exporter": "python",
   "pygments_lexer": "ipython3",
   "version": "3.9.7"
  }
 },
 "nbformat": 4,
 "nbformat_minor": 5
}
