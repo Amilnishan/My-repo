{
 "cells": [
  {
   "cell_type": "code",
   "execution_count": 1,
   "id": "8d4b559f",
   "metadata": {},
   "outputs": [
    {
     "name": "stdout",
     "output_type": "stream",
     "text": [
      "enter the radius:4\n",
      "Area = 50.27\n"
     ]
    }
   ],
   "source": [
    "#Area of circle\n",
    "\n",
    "import math\n",
    "\n",
    "r=float(input(\"enter the radius:\"))\n",
    "area=math.pi*r*r \n",
    "print(f\"Area = {area:.2f}\")\n"
   ]
  },
  {
   "cell_type": "code",
   "execution_count": 2,
   "id": "32f69fcd",
   "metadata": {},
   "outputs": [
    {
     "name": "stdout",
     "output_type": "stream",
     "text": [
      "enter an integer:5\n",
      "result= 615\n"
     ]
    }
   ],
   "source": [
    "#program to accept an integer and compute n+nn+nnn\n",
    "\n",
    "n=input(\"enter an integer:\")\n",
    "result=int(n) + int(n*2) + int(n*3)\n",
    "print(\"result=\",result)"
   ]
  },
  {
   "cell_type": "code",
   "execution_count": 6,
   "id": "56b54265",
   "metadata": {},
   "outputs": [
    {
     "name": "stdout",
     "output_type": "stream",
     "text": [
      "enter an integer:10\n",
      "enter an integer:20\n",
      "enter an integer:30\n",
      "Greatest number is: 30\n"
     ]
    }
   ],
   "source": [
    "#find the greatest number using max function\n",
    "\n",
    "n1=int(input(\"enter an integer:\"))\n",
    "n2=int(input(\"enter an integer:\"))\n",
    "n3=int(input(\"enter an integer:\"))\n",
    "greatest=max(n1,n2,n3)\n",
    "print(\"Greatest number is:\",greatest)"
   ]
  },
  {
   "cell_type": "code",
   "execution_count": null,
   "id": "89ff32ab",
   "metadata": {},
   "outputs": [],
   "source": []
  }
 ],
 "metadata": {
  "kernelspec": {
   "display_name": "Python 3 (ipykernel)",
   "language": "python",
   "name": "python3"
  },
  "language_info": {
   "codemirror_mode": {
    "name": "ipython",
    "version": 3
   },
   "file_extension": ".py",
   "mimetype": "text/x-python",
   "name": "python",
   "nbconvert_exporter": "python",
   "pygments_lexer": "ipython3",
   "version": "3.9.7"
  }
 },
 "nbformat": 4,
 "nbformat_minor": 5
}
