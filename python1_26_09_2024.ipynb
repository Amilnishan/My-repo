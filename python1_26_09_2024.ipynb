
{
 "cells": [
  {
   "cell_type": "code",
   "execution_count": 2,
   "id": "d8ab0f7f",
   "metadata": {},
   "outputs": [
    {
     "name": "stdout",
     "output_type": "stream",
     "text": [
      "enter the side:4\n",
      "Area = 16\n"
     ]
    }
   ],
   "source": [
    "a=int(input(\"enter the side:\"))\n",
    "area=a*a\n",
    "print(\"Area =\",area)"
   ]
  },
  {
   "cell_type": "code",
   "execution_count": 3,
   "id": "98964ebd",
   "metadata": {},
   "outputs": [
    {
     "name": "stdout",
     "output_type": "stream",
     "text": [
      "enter the base:4\n",
      "enter the height:8\n",
      "Area of right angled triangle =  16.0\n"
     ]
    }
   ],
   "source": [
    "base=int(input(\"enter the base:\"))\n",
    "height=int(input(\"enter the height:\"))\n",
    "area=base*height/2\n",
    "print(\"Area of right angled triangle = \",area)"
   ]
  },
  {
   "cell_type": "code",
   "execution_count": 5,
   "id": "822465de",
   "metadata": {},
   "outputs": [
    {
     "name": "stdout",
     "output_type": "stream",
     "text": [
      "enter your name:Amil\n",
      "Hello Amil !\n"
     ]
    }
   ],
   "source": [
    "name=input(\"enter your name:\")\n",
    "print(\"Hello\",name,'!')"
   ]
  },
  {
   "cell_type": "code",
   "execution_count": 8,
   "id": "56b13495",
   "metadata": {},
   "outputs": [
    {
     "name": "stdout",
     "output_type": "stream",
     "text": [
      "enter a number:10\n",
      "Previous number = 9\n",
      "next number = 11\n"
     ]
    }
   ],
   "source": [
    "number=int(input(\"enter a number:\"))\n",
    "prev_number=number-1\n",
    "next_number=number+1\n",
    "print(\"Previous number =\",prev_number)\n",
    "print(\"next number =\",next_number)"
   ]
  },
  {
   "cell_type": "code",
   "execution_count": 9,
   "id": "4d852f9c",
   "metadata": {},
   "outputs": [
    {
     "name": "stdout",
     "output_type": "stream",
     "text": [
      "enter the amount:1000\n",
      "enter the rate:10\n",
      "Interest = 100.0\n"
     ]
    }
   ],
   "source": [
    "amount=float(input(\"enter the amount:\"))\n",
    "rate=float(input(\"enter the rate:\"))\n",
    "interest=amount*rate/100\n",
    "print(\"Interest =\",interest)"
   ]
  },
  {
   "cell_type": "code",
   "execution_count": null,
   "id": "4b3b075d",
   "metadata": {},
   "outputs": [],
   "source": []
  }
 ],
 "metadata": {
  "kernelspec": {
   "display_name": "Python 3 (ipykernel)",
   "language": "python",
   "name": "python3"
  },
  "language_info": {
   "codemirror_mode": {
    "name": "ipython",
    "version": 3
   },
   "file_extension": ".py",
   "mimetype": "text/x-python",
   "name": "python",
   "nbconvert_exporter": "python",
   "pygments_lexer": "ipython3",
   "version": "3.9.7"
  }
 },
 "nbformat": 4,
 "nbformat_minor": 5
}
